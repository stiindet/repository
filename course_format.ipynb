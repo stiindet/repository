{
 "cells": [
  {
   "cell_type": "markdown",
   "metadata": {
    "tags": [
     "s1",
     "content"
    ]
   },
   "source": [
    "# PYTHON INTRODUCTION\n",
    "\n",
    "\n",
    "## Variables in python\n",
    "Variable is just a name that stores data.\n",
    "To create a variable, you have to use '=' operator.\n",
    "`my_var = 100`\n",
    "\n",
    "\n",
    "## Exercise\n",
    "\n",
    "- create a variable with name 'stoic' and assign 999 to it."
   ]
  },
  {
   "cell_type": "code",
   "execution_count": null,
   "metadata": {
    "collapsed": true,
    "tags": [
     "s1",
     "ce"
    ]
   },
   "outputs": [],
   "source": [
    "#some initial code here, to help start the user.\n",
    "\n",
    "my_var = 100\n",
    "print('my_var is %d' % my_var)\n",
    "\n",
    "# write your code here."
   ]
  },
  {
   "cell_type": "markdown",
   "metadata": {
    "tags": [
     "s1",
     "hint"
    ]
   },
   "source": [
    "#### this is the hint block, use code cell or markdown cell, but remember it wont get executed, so better go with markdown.\n",
    "\n",
    "Use '=' operator to create and assign value to variable."
   ]
  },
  {
   "cell_type": "code",
   "execution_count": null,
   "metadata": {
    "collapsed": true,
    "tags": [
     "s1",
     "ans"
    ]
   },
   "outputs": [],
   "source": [
    "# this is the answer block, always use the code cell.\n",
    "\n",
    "stoic = 999\n",
    "print(stoic)"
   ]
  },
  {
   "cell_type": "code",
   "execution_count": 5,
   "metadata": {
    "tags": [
     "s1",
     "hid"
    ]
   },
   "outputs": [
    {
     "name": "stdout",
     "output_type": "stream",
     "text": [
      "The answer did not pass the test.\n"
     ]
    }
   ],
   "source": [
    "#this is assertion block which verifies the solution.\n",
    "\n",
    "try:\n",
    "    def verify_answer():\n",
    "        \"\"\"\n",
    "        enter your verification code here.\n",
    "        return true if your checks pass\n",
    "        eg: \n",
    "        if above_user_answer_var > 100: \n",
    "            return True\n",
    "        else:\n",
    "            return False\n",
    "        \"\"\"\n",
    "        if stoic == 999:\n",
    "            return True\n",
    "        else:\n",
    "            return False\n",
    "\n",
    "    ref_assert_var = verify_answer()\n",
    "except Exception as e: \n",
    "    print('Your assertion block throws error: ' + str(e))\n",
    "else:\n",
    "    if ref_assert_var:\n",
    "        print('continue')\n",
    "    else:\n",
    "        print('The answer did not pass the test.')"
   ]
  },
  {
   "cell_type": "markdown",
   "metadata": {
    "tags": [
     "s2",
     "content"
    ]
   },
   "source": [
    "<br/><br/><br/><br/>\n",
    "## Importing modules\n",
    "\n",
    "Use 'import' keyword.\n",
    "\n",
    "## Exercise\n",
    "-  import os"
   ]
  },
  {
   "cell_type": "code",
   "execution_count": null,
   "metadata": {
    "collapsed": true,
    "tags": [
     "s2",
     "ce"
    ]
   },
   "outputs": [],
   "source": [
    "# your code starts here.."
   ]
  },
  {
   "cell_type": "markdown",
   "metadata": {
    "tags": [
     "s2",
     "hint"
    ]
   },
   "source": [
    "Use 'import' statement followed by 'os' module."
   ]
  },
  {
   "cell_type": "code",
   "execution_count": 8,
   "metadata": {
    "collapsed": true,
    "tags": [
     "s2",
     "ans"
    ]
   },
   "outputs": [],
   "source": [
    "import os"
   ]
  }
 ],
 "metadata": {
  "executed_sections": [],
  "kernelspec": {
   "display_name": "Python 3",
   "language": "python",
   "name": "python3"
  },
  "language_info": {
   "codemirror_mode": {
    "name": "ipython",
    "version": 3
   },
   "file_extension": ".py",
   "mimetype": "text/x-python",
   "name": "python",
   "nbconvert_exporter": "python",
   "pygments_lexer": "ipython3",
   "version": "3.5.2"
  }
 },
 "nbformat": 4,
 "nbformat_minor": 2
}